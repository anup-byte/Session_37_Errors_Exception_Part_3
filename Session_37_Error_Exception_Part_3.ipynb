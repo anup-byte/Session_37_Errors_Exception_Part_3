{
 "cells": [
  {
   "cell_type": "code",
   "execution_count": 1,
   "id": "dad65ac0",
   "metadata": {},
   "outputs": [
    {
     "name": "stdout",
     "output_type": "stream",
     "text": [
      "Content written successfully\n"
     ]
    }
   ],
   "source": [
    "try:\n",
    "    f = open('demo_file15', 'w')\n",
    "    f.write(\"My name is AI Ki Pathshala\")\n",
    "    \n",
    "    \n",
    "except IOError:\n",
    "    print(\"Error: cound not find file or read data\")\n",
    "    \n",
    "else:\n",
    "    print(\"Content written successfully\")\n",
    "    f.close()\n",
    "    "
   ]
  },
  {
   "cell_type": "code",
   "execution_count": 2,
   "id": "abb3e2e1",
   "metadata": {},
   "outputs": [
    {
     "ename": "UnsupportedOperation",
     "evalue": "not writable",
     "output_type": "error",
     "traceback": [
      "\u001b[0;31m---------------------------------------------------------------------------\u001b[0m",
      "\u001b[0;31mUnsupportedOperation\u001b[0m                      Traceback (most recent call last)",
      "Cell \u001b[0;32mIn[2], line 2\u001b[0m\n\u001b[1;32m      1\u001b[0m f \u001b[38;5;241m=\u001b[39m \u001b[38;5;28mopen\u001b[39m(\u001b[38;5;124m'\u001b[39m\u001b[38;5;124mdemo_file15\u001b[39m\u001b[38;5;124m'\u001b[39m, \u001b[38;5;124m'\u001b[39m\u001b[38;5;124mr\u001b[39m\u001b[38;5;124m'\u001b[39m)\n\u001b[0;32m----> 2\u001b[0m f\u001b[38;5;241m.\u001b[39mwrite(\u001b[38;5;124m\"\u001b[39m\u001b[38;5;124mMy name is AI Ki Pathshala\u001b[39m\u001b[38;5;124m\"\u001b[39m)\n\u001b[1;32m      3\u001b[0m \u001b[38;5;28mprint\u001b[39m(\u001b[38;5;124m\"\u001b[39m\u001b[38;5;124mAI ML DL\u001b[39m\u001b[38;5;124m\"\u001b[39m)\n",
      "\u001b[0;31mUnsupportedOperation\u001b[0m: not writable"
     ]
    }
   ],
   "source": [
    "f = open('demo_file15', 'r')\n",
    "f.write(\"My name is AI Ki Pathshala\")\n",
    "print(\"AI ML DL\")   "
   ]
  },
  {
   "cell_type": "code",
   "execution_count": 3,
   "id": "9cb22a1a",
   "metadata": {},
   "outputs": [
    {
     "name": "stdout",
     "output_type": "stream",
     "text": [
      "Error: cound not find file or read data\n"
     ]
    }
   ],
   "source": [
    "try:\n",
    "    f = open('demo_file15', 'r')\n",
    "    f.write(\"My name is AI Ki Pathshala\")\n",
    "\n",
    "except IOError:\n",
    "    print(\"Error: cound not find file or read data\")\n",
    "    \n",
    "else:\n",
    "    print(\"Content written successfully\")\n",
    "    f.close()"
   ]
  },
  {
   "cell_type": "code",
   "execution_count": 4,
   "id": "7cced768",
   "metadata": {},
   "outputs": [
    {
     "name": "stdout",
     "output_type": "stream",
     "text": [
      "Error: cound not find file or read data\n",
      "I will always execute\n"
     ]
    }
   ],
   "source": [
    "try:\n",
    "    f = open('demo_file15', 'r')\n",
    "    f.write(\"My name is AI Ki Pathshala\")\n",
    "\n",
    "except IOError:\n",
    "    print(\"Error: cound not find file or read data\")\n",
    "    \n",
    "else:\n",
    "    print(\"Content written successfully\")\n",
    "    f.close()\n",
    "    \n",
    "finally:\n",
    "    print(\"I will always execute\")\n",
    "    \n",
    "    "
   ]
  },
  {
   "cell_type": "code",
   "execution_count": 5,
   "id": "89eb144d",
   "metadata": {},
   "outputs": [
    {
     "name": "stdout",
     "output_type": "stream",
     "text": [
      "Content written successfully\n",
      "This block will always execute\n"
     ]
    }
   ],
   "source": [
    "try:\n",
    "    f = open('demo_file15', 'w')\n",
    "    f.write(\"My name is AI Ki Pathshala\")\n",
    "    \n",
    "    \n",
    "except IOError:\n",
    "    print(\"Error: cound not find file or read data\")\n",
    "    \n",
    "else:\n",
    "    print(\"Content written successfully\")\n",
    "    f.close()\n",
    "    \n",
    "finally:\n",
    "    print(\"This block will always execute\")"
   ]
  },
  {
   "cell_type": "code",
   "execution_count": 6,
   "id": "d83d1d30",
   "metadata": {},
   "outputs": [],
   "source": [
    "def askint():\n",
    "    try:\n",
    "        val = int(input(\"Enter integer: \"))\n",
    "        \n",
    "    except:\n",
    "        print(\"Looks like you did not enter an integer\")\n",
    "        \n",
    "    finally:\n",
    "        print(\"Finally, I executed\")\n",
    "        "
   ]
  },
  {
   "cell_type": "code",
   "execution_count": 7,
   "id": "1afc0ea1",
   "metadata": {},
   "outputs": [
    {
     "name": "stdout",
     "output_type": "stream",
     "text": [
      "Enter integer: 76\n",
      "Finally, I executed\n"
     ]
    }
   ],
   "source": [
    "askint()"
   ]
  },
  {
   "cell_type": "code",
   "execution_count": 8,
   "id": "d5d95734",
   "metadata": {},
   "outputs": [
    {
     "name": "stdout",
     "output_type": "stream",
     "text": [
      "Enter integer: hdgdbvdbd\n",
      "Looks like you did not enter an integer\n",
      "Finally, I executed\n"
     ]
    }
   ],
   "source": [
    "askint()"
   ]
  },
  {
   "cell_type": "code",
   "execution_count": 9,
   "id": "4d8734e6",
   "metadata": {},
   "outputs": [],
   "source": [
    "def askint():\n",
    "    try:\n",
    "        val = int(input(\"Enter integer: \"))\n",
    "        \n",
    "    except:\n",
    "        print(\"Looks like you did not enter an integer\")\n",
    "        \n",
    "    finally:\n",
    "        print(\"Finally, I executed\")\n",
    "        \n",
    "    print(val)    \n",
    "        "
   ]
  },
  {
   "cell_type": "code",
   "execution_count": 10,
   "id": "a9015926",
   "metadata": {},
   "outputs": [
    {
     "name": "stdout",
     "output_type": "stream",
     "text": [
      "Enter integer: 34\n",
      "Finally, I executed\n",
      "34\n"
     ]
    }
   ],
   "source": [
    "askint()"
   ]
  },
  {
   "cell_type": "code",
   "execution_count": 11,
   "id": "5d229514",
   "metadata": {},
   "outputs": [
    {
     "name": "stdout",
     "output_type": "stream",
     "text": [
      "Enter integer: gfjdlkdk\n",
      "Looks like you did not enter an integer\n",
      "Finally, I executed\n"
     ]
    },
    {
     "ename": "UnboundLocalError",
     "evalue": "cannot access local variable 'val' where it is not associated with a value",
     "output_type": "error",
     "traceback": [
      "\u001b[0;31m---------------------------------------------------------------------------\u001b[0m",
      "\u001b[0;31mUnboundLocalError\u001b[0m                         Traceback (most recent call last)",
      "Cell \u001b[0;32mIn[11], line 1\u001b[0m\n\u001b[0;32m----> 1\u001b[0m askint()\n",
      "Cell \u001b[0;32mIn[9], line 11\u001b[0m, in \u001b[0;36maskint\u001b[0;34m()\u001b[0m\n\u001b[1;32m      8\u001b[0m \u001b[38;5;28;01mfinally\u001b[39;00m:\n\u001b[1;32m      9\u001b[0m     \u001b[38;5;28mprint\u001b[39m(\u001b[38;5;124m\"\u001b[39m\u001b[38;5;124mFinally, I executed\u001b[39m\u001b[38;5;124m\"\u001b[39m)\n\u001b[0;32m---> 11\u001b[0m \u001b[38;5;28mprint\u001b[39m(val)\n",
      "\u001b[0;31mUnboundLocalError\u001b[0m: cannot access local variable 'val' where it is not associated with a value"
     ]
    }
   ],
   "source": [
    "askint()"
   ]
  },
  {
   "cell_type": "code",
   "execution_count": 12,
   "id": "964144da",
   "metadata": {},
   "outputs": [],
   "source": [
    "def askint():\n",
    "    try:\n",
    "        val = int(input(\"Enter integer: \"))\n",
    "        \n",
    "    except:\n",
    "        print(\"Looks like you did not enter an integer\")\n",
    "        \n",
    "        try:\n",
    "            val = int(input(\"Try again-Please Enter an integer: \"))\n",
    "            \n",
    "        except:\n",
    "            print(\"handle it\")\n",
    "            \n",
    "        \n",
    "    finally:\n",
    "        print(\"Finally, I executed\")\n",
    "        "
   ]
  },
  {
   "cell_type": "code",
   "execution_count": 13,
   "id": "cfb2af0a",
   "metadata": {},
   "outputs": [
    {
     "name": "stdout",
     "output_type": "stream",
     "text": [
      "Enter integer: 45\n",
      "Finally, I executed\n"
     ]
    }
   ],
   "source": [
    "askint()"
   ]
  },
  {
   "cell_type": "code",
   "execution_count": 14,
   "id": "82319310",
   "metadata": {},
   "outputs": [
    {
     "name": "stdout",
     "output_type": "stream",
     "text": [
      "Enter integer: ruchi\n",
      "Looks like you did not enter an integer\n",
      "Try again-Please Enter an integer: 56\n",
      "Finally, I executed\n"
     ]
    }
   ],
   "source": [
    "askint()"
   ]
  },
  {
   "cell_type": "code",
   "execution_count": 15,
   "id": "3ebca4a3",
   "metadata": {},
   "outputs": [
    {
     "name": "stdout",
     "output_type": "stream",
     "text": [
      "Enter integer: gdrtd\n",
      "Looks like you did not enter an integer\n",
      "Try again-Please Enter an integer: fdrd\n",
      "handle it\n",
      "Finally, I executed\n"
     ]
    }
   ],
   "source": [
    "askint()"
   ]
  },
  {
   "cell_type": "code",
   "execution_count": 16,
   "id": "0ee82a54",
   "metadata": {},
   "outputs": [],
   "source": [
    "def askint():\n",
    "    while True:\n",
    "        try:\n",
    "            val = int(input(\"Enter integer: \"))\n",
    "        \n",
    "        except:\n",
    "            print(\"Looks like you did not enter an integer\")\n",
    "            break\n",
    "            \n",
    "        else:\n",
    "            print(\"Yes thats an integer\")\n",
    "            break\n",
    "        \n",
    "        finally:\n",
    "            print(\"Finally, I executed\")"
   ]
  },
  {
   "cell_type": "code",
   "execution_count": 17,
   "id": "0267490f",
   "metadata": {},
   "outputs": [
    {
     "name": "stdout",
     "output_type": "stream",
     "text": [
      "Enter integer: 765\n",
      "Yes thats an integer\n",
      "Finally, I executed\n"
     ]
    }
   ],
   "source": [
    "askint()"
   ]
  },
  {
   "cell_type": "code",
   "execution_count": 18,
   "id": "ee46fbf8",
   "metadata": {},
   "outputs": [
    {
     "name": "stdout",
     "output_type": "stream",
     "text": [
      "Enter integer: xyz\n",
      "Looks like you did not enter an integer\n",
      "Finally, I executed\n"
     ]
    }
   ],
   "source": [
    "askint()"
   ]
  },
  {
   "cell_type": "code",
   "execution_count": null,
   "id": "b515449a",
   "metadata": {},
   "outputs": [],
   "source": [
    "# User Defined Exception\n",
    "# Raising an Exception"
   ]
  },
  {
   "cell_type": "code",
   "execution_count": 20,
   "id": "fcb8755a",
   "metadata": {},
   "outputs": [
    {
     "name": "stdout",
     "output_type": "stream",
     "text": [
      "10\n"
     ]
    }
   ],
   "source": [
    "def raise_exc(a):\n",
    "    if a < 5:\n",
    "        raise Exception(a)\n",
    "        \n",
    "    return a\n",
    "\n",
    "try:\n",
    "    res1 = raise_exc(10)\n",
    "    print(res1)\n",
    "    \n",
    "except Exception as e:\n",
    "    print(\"Error is \", e)\n",
    "    "
   ]
  },
  {
   "cell_type": "code",
   "execution_count": null,
   "id": "96096a78",
   "metadata": {},
   "outputs": [],
   "source": [
    "  res2 = raise_exc(3)\n",
    "    print(res2)"
   ]
  },
  {
   "cell_type": "code",
   "execution_count": 21,
   "id": "1edab47d",
   "metadata": {},
   "outputs": [
    {
     "name": "stdout",
     "output_type": "stream",
     "text": [
      "Error is  3\n"
     ]
    }
   ],
   "source": [
    "def raise_exc(a):\n",
    "    if a < 5:\n",
    "        raise Exception(a)\n",
    "        \n",
    "    return a\n",
    "\n",
    "try:\n",
    "    res2 = raise_exc(3)\n",
    "    print(res2)\n",
    "    \n",
    "except Exception as e:\n",
    "    print(\"Error is \", e)"
   ]
  },
  {
   "cell_type": "code",
   "execution_count": null,
   "id": "f9b00ff2",
   "metadata": {},
   "outputs": [],
   "source": []
  },
  {
   "cell_type": "code",
   "execution_count": null,
   "id": "7211896e",
   "metadata": {},
   "outputs": [],
   "source": []
  },
  {
   "cell_type": "code",
   "execution_count": null,
   "id": "97552a72",
   "metadata": {},
   "outputs": [],
   "source": []
  },
  {
   "cell_type": "code",
   "execution_count": null,
   "id": "b590784d",
   "metadata": {},
   "outputs": [],
   "source": []
  },
  {
   "cell_type": "code",
   "execution_count": null,
   "id": "581d830b",
   "metadata": {},
   "outputs": [],
   "source": []
  },
  {
   "cell_type": "code",
   "execution_count": null,
   "id": "aa338967",
   "metadata": {},
   "outputs": [],
   "source": []
  },
  {
   "cell_type": "code",
   "execution_count": null,
   "id": "56fcb17b",
   "metadata": {},
   "outputs": [],
   "source": []
  },
  {
   "cell_type": "code",
   "execution_count": null,
   "id": "69758089",
   "metadata": {},
   "outputs": [],
   "source": []
  },
  {
   "cell_type": "code",
   "execution_count": null,
   "id": "e0e1ce34",
   "metadata": {},
   "outputs": [],
   "source": []
  },
  {
   "cell_type": "code",
   "execution_count": null,
   "id": "285c25e2",
   "metadata": {},
   "outputs": [],
   "source": []
  }
 ],
 "metadata": {
  "kernelspec": {
   "display_name": "Python 3 (ipykernel)",
   "language": "python",
   "name": "python3"
  },
  "language_info": {
   "codemirror_mode": {
    "name": "ipython",
    "version": 3
   },
   "file_extension": ".py",
   "mimetype": "text/x-python",
   "name": "python",
   "nbconvert_exporter": "python",
   "pygments_lexer": "ipython3",
   "version": "3.11.4"
  }
 },
 "nbformat": 4,
 "nbformat_minor": 5
}
